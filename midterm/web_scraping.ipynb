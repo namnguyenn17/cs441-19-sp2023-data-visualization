{
 "cells": [
  {
   "cell_type": "code",
   "execution_count": 1,
   "id": "9319bb21",
   "metadata": {},
   "outputs": [],
   "source": [
    "from bs4 import BeautifulSoup\n",
    "import pandas as pd\n",
    "import requests\n",
    "import warnings\n",
    "warnings.filterwarnings(\"ignore\")"
   ]
  },
  {
   "attachments": {},
   "cell_type": "markdown",
   "id": "67028d68",
   "metadata": {},
   "source": [
    "# Web scraping\n",
    "1. Initialization"
   ]
  },
  {
   "cell_type": "code",
   "execution_count": 2,
   "id": "2bc09cc1",
   "metadata": {},
   "outputs": [],
   "source": [
    "headers = (\n",
    "    {\n",
    "        \"User-Agent\": \"Mozilla/5.0 (Windows NT 10.0; Win64; x64)\\\n",
    "        AppleWebKit/537.36 (KHTML, like Gecko)\\\n",
    "        Chrome/90.0.4430.212 Safari/537.36\",\n",
    "        \"Accept-Language\": \"en-US, en;q=0.5\"\n",
    "    }\n",
    ")"
   ]
  },
  {
   "cell_type": "code",
   "execution_count": 3,
   "id": "ede7acd0",
   "metadata": {},
   "outputs": [],
   "source": [
    "def get_data(url: str) -> str:\n",
    "    content = requests.get(url, headers=headers)\n",
    "    \n",
    "    return content.text\n",
    "\n",
    "\n",
    "def html_code(url: str) -> BeautifulSoup:\n",
    "    \n",
    "    html_data = get_data(url=url)\n",
    "    soup = BeautifulSoup(html_data, \"html.parser\")\n",
    "\n",
    "    return soup\n",
    "\n",
    "\n",
    "def cus_data(soup: str, html_tag: str, html_class: str) -> list:\n",
    "    \n",
    "    cus_list = []\n",
    "    for item in soup.find_all(html_tag, class_=html_class):\n",
    "        data_str = item.get_text()\n",
    "        cus_list.append(data_str)\n",
    "        \n",
    "    return cus_list\n",
    "\n",
    "\n",
    "def scraped_data(soup: str) -> pd.core.frame.DataFrame:\n",
    "    \n",
    "    pseudo = cus_data(\n",
    "        soup=soup,\n",
    "        html_tag=\"span\",\n",
    "        html_class=\"a-profile-name\"\n",
    "    )\n",
    "    \n",
    "    title = cus_data(\n",
    "        soup=soup,\n",
    "        html_tag=\"a\",\n",
    "        html_class=\"a-size-base a-link-normal review-title a-color-base review-title-content a-text-bold\"\n",
    "    )\n",
    "\n",
    "    review = cus_data(\n",
    "        soup=soup,\n",
    "        html_tag=\"span\",\n",
    "        html_class=\"a-size-base review-text review-text-content\"\n",
    "    )\n",
    "\n",
    "    rating = cus_data(\n",
    "        soup=soup,\n",
    "        html_tag=\"span\",\n",
    "        html_class=\"a-icon-alt\"\n",
    "    )\n",
    "\n",
    "    verified_purchase = cus_data(\n",
    "        soup=soup,\n",
    "        html_tag=\"span\",\n",
    "        html_class=\"a-size-mini a-color-state a-text-bold\"\n",
    "    )\n",
    "\n",
    "    date = cus_data(\n",
    "        soup=soup,\n",
    "        html_tag=\"span\",\n",
    "        html_class=\"a-size-base a-color-secondary review-date\"\n",
    "    )\n",
    "\n",
    "    product = cus_data(\n",
    "        soup=soup,\n",
    "        html_tag=\"div\",\n",
    "        html_class=\"a-row product-title\"\n",
    "    )\n",
    "    \n",
    "    df_data = pd.DataFrame(\n",
    "        {\n",
    "            \"Pseudo\": [\"\"],\n",
    "            \"Title\": [\"\"],\n",
    "            \"Review\": [\"\"],\n",
    "            \"Rating\": [\"\"],\n",
    "            \"Verified Purchase\": [\"\"],\n",
    "            \"Date\": [\"\"]\n",
    "        }\n",
    "    )\n",
    "\n",
    "    for i in range(len(title)):\n",
    "        df_scraped = pd.DataFrame(\n",
    "            {\n",
    "                \"Pseudo\": [pseudo[i]],\n",
    "                \"Title\": [title[i]],\n",
    "                \"Review\": [review[i]],\n",
    "                \"Rating\": [rating[i]],\n",
    "                \"Verified Purchase\": [verified_purchase[i]],\n",
    "                \"Date\": [date[i]]\n",
    "            }\n",
    "        )\n",
    "\n",
    "        df_data = pd.concat([df_data, df_scraped], ignore_index=True)\n",
    "\n",
    "    df_data.drop([0], axis=0, inplace=True)\n",
    "    \n",
    "    return df_data\n",
    "\n",
    "\n",
    "def scraped_data_multipage(url: str) -> pd.core.frame.DataFrame:\n",
    "    \n",
    "    page1 = \"&pageNumber=1\"\n",
    "    page2 = \"&pageNumber=2\"\n",
    "    page3 = \"&pageNumber=3\"\n",
    "    page4 = \"&pageNumber=4\"\n",
    "    page5 = \"&pageNumber=5\"\n",
    "    \n",
    "    soup = html_code(url=url+page1)\n",
    "    data_page1 = scraped_data(soup=soup)\n",
    "\n",
    "    soup = html_code(url=url+page2)\n",
    "    data_page2 = scraped_data(soup=soup)\n",
    "\n",
    "    soup = html_code(url=url+page3)\n",
    "    data_page3 = scraped_data(soup=soup)\n",
    "\n",
    "    soup = html_code(url=url+page4)\n",
    "    data_page4 = scraped_data(soup=soup)\n",
    "\n",
    "    soup = html_code(url=url+page5)\n",
    "    data_page5 = scraped_data(soup=soup)\n",
    "    \n",
    "    df_data = pd.concat(\n",
    "        [\n",
    "            data_page1,\n",
    "            data_page2,\n",
    "            data_page3,\n",
    "            data_page4,\n",
    "            data_page5\n",
    "        ]\n",
    "    ).reset_index(drop=True)\n",
    "    \n",
    "    return df_data"
   ]
  },
  {
   "attachments": {},
   "cell_type": "markdown",
   "id": "ae4c9ed6",
   "metadata": {},
   "source": [
    "2. List potential url that wants to crawl"
   ]
  },
  {
   "cell_type": "code",
   "execution_count": 4,
   "id": "1e4ea167",
   "metadata": {},
   "outputs": [],
   "source": [
    "list_urls = [\n",
    "    \"https://www.amazon.com/Razer-Blade-14-Gaming-Laptop/product-reviews/B094658SMY/ref=cm_cr_dp_d_show_all_btm?ie=UTF8&reviewerType=all_reviews\",\n",
    "    \"https://www.amazon.com/ASUS-Processor-NumberPad-Microsoft-L210MA-DB01/product-reviews/B081V6W99V/ref=cm_cr_dp_d_show_all_btm?ie=UTF8&reviewerType=all_reviews\",\n",
    "    \"https://www.amazon.com/HP-Generation-i5-1135G7-Graphics-15-dy2024nr/product-reviews/B09FXFDGN3/ref=cm_cr_dp_d_show_all_btm?ie=UTF8&reviewerType=all_reviews\",\n",
    "    \"https://www.amazon.com/ASUS-IPS-Type-i5-10300H-Keyboard-FX706LI-ES53/product-reviews/B08ZLC661T/ref=cm_cr_dp_d_show_all_btm?ie=UTF8&reviewerType=all_reviews\",\n",
    "    \"https://www.amazon.com/Acer-i7-1165G7-Graphics-Antimicrobial-SF514-55TA-74EC/product-reviews/B08JQKMFFB/ref=cm_cr_dp_d_show_all_btm?ie=UTF8&reviewerType=all_reviews\",\n",
    "    \"https://www.amazon.com/HP-Portable-Micro-Edge-Anti-Glare-14-fq1025nr/product-reviews/B09G8SK2KK/ref=cm_cr_dp_d_show_all_btm?ie=UTF8&reviewerType=all_reviews\",\n",
    "    \"https://www.amazon.com/ASUS-VivoBook-R7-3700U-Fingerprint-F512DA-NH77/product-reviews/B085344M9Q/ref=cm_cr_dp_d_show_all_btm?ie=UTF8&reviewerType=all_reviews\",\n",
    "    \"https://www.amazon.com/Dell-Inspiron-3000-Laptop-Celeron/product-reviews/B09F626YKW/ref=cm_cr_dp_d_show_all_btm?ie=UTF8&reviewerType=all_reviews\",\n",
    "    \"https://www.amazon.com/Acer-AN515-55-53E5-i5-10300H-GeForce-Keyboard/product-reviews/B092YHJGMN/ref=cm_cr_dp_d_show_all_btm?ie=UTF8&reviewerType=all_reviews\",\n",
    "    \"https://www.amazon.com/Lenovo-Chromebook-11-6-Inch-Processor-82HG0006US/product-reviews/B08T6N424Z/ref=cm_cr_dp_d_show_all_btm?ie=UTF8&reviewerType=all_reviews\",\n",
    "    \"https://www.amazon.com/Apple-32GB-Space-Model-Refurbished/product-reviews/B074PWW6NS/ref=cm_cr_dp_d_show_all_btm?ie=UTF8&reviewerType=all_reviews\",\n",
    "    \"https://www.amazon.com/ASUS-Chromebook-Spill-resistant-Transparent-CX1100CNA-AS42/product-reviews/B08XTB1NNH/ref=cm_cr_dp_d_show_all_btm?ie=UTF8&reviewerType=all_reviews\",\n",
    "    \"https://www.amazon.com/Acer-A515-56-36UT-Display-i3-1115G4-Processor/product-reviews/B08VKT45K4/ref=cm_cr_dp_d_show_all_btm?ie=UTF8&reviewerType=all_reviews\",\n",
    "    \"https://www.amazon.com/ASUS-Processor-NumberPad-Microsoft-L210MA-DB01/product-reviews/B081V6W99V/ref=cm_cr_dp_d_show_all_btm?ie=UTF8&reviewerType=all_reviews\",\n",
    "    \"https://www.amazon.com/HP-Pavilion-Generation-i7-1165G7-15-eg0025nr/product-reviews/B09FX1YF28/ref=cm_cr_dp_d_show_all_btm?ie=UTF8&reviewerType=all_reviews\",\n",
    "    \"https://www.amazon.com/Samsung-5100mAh-Battery-SM-T290-International/product-reviews/B07XJZ7VQD/ref=cm_cr_dp_d_show_all_btm?ie=UTF8&reviewerType=all_reviews\",\n",
    "    \"https://www.amazon.com/HP-14-Laptop-Dual-Core-Processor/product-reviews/B09VRX9YVW/ref=cm_cr_dp_d_show_all_btm?ie=UTF8&reviewerType=all_reviews\",\n",
    "    \"https://www.amazon.com/MSI-Stealth-15M-Gaming-Laptop/product-reviews/B091GGZT1S/ref=cm_cr_dp_d_show_all_btm?ie=UTF8&reviewerType=all_reviews\",\n",
    "    \"https://www.amazon.com/Apple-MacBook-Retina-MPTR2LL-Renewed/product-reviews/B07JMLMVKP/ref=cm_cr_dp_d_show_all_btm?ie=UTF8&reviewerType=all_reviews\",\n",
    "    \"https://www.amazon.com/Lenovo-Processor-Graphics-82HU00JWUS-Graphite/product-reviews/B09BG96KFJ/ref=cm_cr_dp_d_show_all_btm?ie=UTF8&reviewerType=all_reviews\",\n",
    "    \"https://www.amazon.com/Samsung-Chromebook-XE500C13-K04US-Certified-Refurbished/product-reviews/B0759YSF4W/ref=cm_cr_dp_d_show_all_btm?ie=UTF8&reviewerType=all_reviews\",\n",
    "    \"https://www.amazon.com/Samsung-Chromebook-Celeron-Processor-Gigabit/product-reviews/B07XQQTVS3/ref=cm_cr_dp_d_show_all_btm?ie=UTF8&reviewerType=all_reviews\",\n",
    "    \"https://www.amazon.com/ASUS-Chromebook-Touchscreen-Processor-C433TA-AS384T/product-reviews/B08ZLF99VD/ref=cm_cr_dp_d_show_all_btm?ie=UTF8&reviewerType=all_reviews\",\n",
    "    \"https://www.amazon.com/Acer-Chromebook-Celeron-Display-CB314-1H-C884/product-reviews/B0858N8CGX/ref=cm_cr_dp_d_show_all_btm?ie=UTF8&reviewerType=all_reviews\"\n",
    "]"
   ]
  },
  {
   "cell_type": "code",
   "execution_count": 5,
   "id": "1a598f95",
   "metadata": {},
   "outputs": [],
   "source": [
    "df_data = pd.DataFrame(\n",
    "    {\n",
    "        \"Pseudo\": [\"\"],\n",
    "        \"Title\": [\"\"],\n",
    "        \"Review\": [\"\"],\n",
    "        \"Rating\": [\"\"],\n",
    "        \"Verified Purchase\": [\"\"],\n",
    "        \"Date\": [\"\"]\n",
    "    }\n",
    ")\n",
    "\n",
    "for i in range(len(list_urls)):\n",
    "    df_scraped = scraped_data_multipage(list_urls[i])\n",
    "    df_data = pd.concat([df_data, df_scraped], ignore_index=True)"
   ]
  },
  {
   "cell_type": "code",
   "execution_count": 6,
   "id": "14a92e0c",
   "metadata": {},
   "outputs": [],
   "source": [
    "df_data.drop([0], axis=0, inplace=True)\n",
    "df_data.reset_index(drop=True, inplace=True)"
   ]
  },
  {
   "cell_type": "code",
   "execution_count": 7,
   "id": "dbe2a7a5",
   "metadata": {},
   "outputs": [
    {
     "name": "stdout",
     "output_type": "stream",
     "text": [
      "<class 'pandas.core.frame.DataFrame'>\n",
      "RangeIndex: 230 entries, 0 to 229\n",
      "Data columns (total 6 columns):\n",
      " #   Column             Non-Null Count  Dtype \n",
      "---  ------             --------------  ----- \n",
      " 0   Pseudo             230 non-null    object\n",
      " 1   Title              230 non-null    object\n",
      " 2   Review             230 non-null    object\n",
      " 3   Rating             230 non-null    object\n",
      " 4   Verified Purchase  230 non-null    object\n",
      " 5   Date               230 non-null    object\n",
      "dtypes: object(6)\n",
      "memory usage: 10.9+ KB\n"
     ]
    }
   ],
   "source": [
    "df_data.info()"
   ]
  },
  {
   "cell_type": "markdown",
   "id": "c2973808",
   "metadata": {},
   "source": [
    "-------------------------------------------------------------------------------------------------------------------------------"
   ]
  },
  {
   "attachments": {},
   "cell_type": "markdown",
   "id": "eac886ef",
   "metadata": {},
   "source": [
    "3. Export data"
   ]
  },
  {
   "cell_type": "code",
   "execution_count": 8,
   "id": "1a7df0a1",
   "metadata": {},
   "outputs": [],
   "source": [
    "df_data.to_csv(path_or_buf=\"amz_customer_reviews.csv\", sep=\",\", index=False)"
   ]
  }
 ],
 "metadata": {
  "kernelspec": {
   "display_name": "venv",
   "language": "python",
   "name": "python3"
  },
  "language_info": {
   "codemirror_mode": {
    "name": "ipython",
    "version": 3
   },
   "file_extension": ".py",
   "mimetype": "text/x-python",
   "name": "python",
   "nbconvert_exporter": "python",
   "pygments_lexer": "ipython3",
   "version": "3.8.6"
  },
  "vscode": {
   "interpreter": {
    "hash": "3f595e7f069eda253bc5ab2998582087611877b953e8cd480d7c57e3567b93a1"
   }
  }
 },
 "nbformat": 4,
 "nbformat_minor": 5
}
