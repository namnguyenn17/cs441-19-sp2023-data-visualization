{
 "cells": [
  {
   "cell_type": "code",
   "execution_count": 4,
   "metadata": {},
   "outputs": [],
   "source": [
    "import pandas as pd\n",
    "from vaderSentiment.vaderSentiment import SentimentIntensityAnalyzer\n",
    "import warnings\n",
    "warnings.filterwarnings(\"ignore\")\n",
    "from nltk.corpus import stopwords\n",
    "from datetime import datetime"
   ]
  },
  {
   "cell_type": "code",
   "execution_count": 5,
   "metadata": {},
   "outputs": [],
   "source": [
    "df_data = pd.read_csv(filepath_or_buffer=\"amzn_customer_reviews.csv\", sep=\",\")"
   ]
  },
  {
   "cell_type": "code",
   "execution_count": 6,
   "metadata": {},
   "outputs": [
    {
     "data": {
      "text/html": [
       "<div>\n",
       "<style scoped>\n",
       "    .dataframe tbody tr th:only-of-type {\n",
       "        vertical-align: middle;\n",
       "    }\n",
       "\n",
       "    .dataframe tbody tr th {\n",
       "        vertical-align: top;\n",
       "    }\n",
       "\n",
       "    .dataframe thead th {\n",
       "        text-align: right;\n",
       "    }\n",
       "</style>\n",
       "<table border=\"1\" class=\"dataframe\">\n",
       "  <thead>\n",
       "    <tr style=\"text-align: right;\">\n",
       "      <th></th>\n",
       "      <th>Pseudo</th>\n",
       "      <th>Title</th>\n",
       "      <th>Review</th>\n",
       "      <th>Rating</th>\n",
       "      <th>Verified Purchase</th>\n",
       "      <th>Date</th>\n",
       "    </tr>\n",
       "  </thead>\n",
       "  <tbody>\n",
       "    <tr>\n",
       "      <th>0</th>\n",
       "      <td>R.A.O</td>\n",
       "      <td>\\nA Small, But Very Powerful Device\\n</td>\n",
       "      <td>\\nReview is based of having the computer as a ...</td>\n",
       "      <td>4.4 out of 5 stars</td>\n",
       "      <td>Verified Purchase</td>\n",
       "      <td>Reviewed in the United States on November 27, ...</td>\n",
       "    </tr>\n",
       "    <tr>\n",
       "      <th>1</th>\n",
       "      <td>Bee Lor</td>\n",
       "      <td>\\nExcellent portable gaming laptop\\n</td>\n",
       "      <td>\\nI'm writing this review for anyone who's on ...</td>\n",
       "      <td>5.0 out of 5 stars</td>\n",
       "      <td>Verified Purchase</td>\n",
       "      <td>Reviewed in the United States on January 6, 2022</td>\n",
       "    </tr>\n",
       "    <tr>\n",
       "      <th>2</th>\n",
       "      <td>R.A.O</td>\n",
       "      <td>\\nThe Golden Standard\\n</td>\n",
       "      <td>\\nI was weighing my options between getting a ...</td>\n",
       "      <td>3.0 out of 5 stars</td>\n",
       "      <td>Verified Purchase</td>\n",
       "      <td>Reviewed in the United States on November 27, ...</td>\n",
       "    </tr>\n",
       "  </tbody>\n",
       "</table>\n",
       "</div>"
      ],
      "text/plain": [
       "    Pseudo                                  Title   \n",
       "0    R.A.O  \\nA Small, But Very Powerful Device\\n  \\\n",
       "1  Bee Lor   \\nExcellent portable gaming laptop\\n   \n",
       "2    R.A.O                \\nThe Golden Standard\\n   \n",
       "\n",
       "                                              Review              Rating   \n",
       "0  \\nReview is based of having the computer as a ...  4.4 out of 5 stars  \\\n",
       "1  \\nI'm writing this review for anyone who's on ...  5.0 out of 5 stars   \n",
       "2  \\nI was weighing my options between getting a ...  3.0 out of 5 stars   \n",
       "\n",
       "   Verified Purchase                                               Date  \n",
       "0  Verified Purchase  Reviewed in the United States on November 27, ...  \n",
       "1  Verified Purchase   Reviewed in the United States on January 6, 2022  \n",
       "2  Verified Purchase  Reviewed in the United States on November 27, ...  "
      ]
     },
     "execution_count": 6,
     "metadata": {},
     "output_type": "execute_result"
    }
   ],
   "source": [
    "df_data.head(3)"
   ]
  },
  {
   "attachments": {},
   "cell_type": "markdown",
   "metadata": {},
   "source": [
    "## Review cleaning\n",
    "All the reviews have '\\n' at the end. Let's remove it."
   ]
  },
  {
   "cell_type": "code",
   "execution_count": 7,
   "metadata": {},
   "outputs": [
    {
     "data": {
      "text/html": [
       "<div>\n",
       "<style scoped>\n",
       "    .dataframe tbody tr th:only-of-type {\n",
       "        vertical-align: middle;\n",
       "    }\n",
       "\n",
       "    .dataframe tbody tr th {\n",
       "        vertical-align: top;\n",
       "    }\n",
       "\n",
       "    .dataframe thead th {\n",
       "        text-align: right;\n",
       "    }\n",
       "</style>\n",
       "<table border=\"1\" class=\"dataframe\">\n",
       "  <thead>\n",
       "    <tr style=\"text-align: right;\">\n",
       "      <th></th>\n",
       "      <th>Pseudo</th>\n",
       "      <th>Title</th>\n",
       "      <th>Review</th>\n",
       "      <th>Rating</th>\n",
       "      <th>Verified Purchase</th>\n",
       "      <th>Date</th>\n",
       "    </tr>\n",
       "  </thead>\n",
       "  <tbody>\n",
       "    <tr>\n",
       "      <th>0</th>\n",
       "      <td>R.A.O</td>\n",
       "      <td>A Small, But Very Powerful Device</td>\n",
       "      <td>\\nReview is based of having the computer as a ...</td>\n",
       "      <td>4.4 out of 5 stars</td>\n",
       "      <td>Verified Purchase</td>\n",
       "      <td>Reviewed in the United States on November 27, ...</td>\n",
       "    </tr>\n",
       "    <tr>\n",
       "      <th>1</th>\n",
       "      <td>Bee Lor</td>\n",
       "      <td>Excellent portable gaming laptop</td>\n",
       "      <td>\\nI'm writing this review for anyone who's on ...</td>\n",
       "      <td>5.0 out of 5 stars</td>\n",
       "      <td>Verified Purchase</td>\n",
       "      <td>Reviewed in the United States on January 6, 2022</td>\n",
       "    </tr>\n",
       "    <tr>\n",
       "      <th>2</th>\n",
       "      <td>R.A.O</td>\n",
       "      <td>The Golden Standard</td>\n",
       "      <td>\\nI was weighing my options between getting a ...</td>\n",
       "      <td>3.0 out of 5 stars</td>\n",
       "      <td>Verified Purchase</td>\n",
       "      <td>Reviewed in the United States on November 27, ...</td>\n",
       "    </tr>\n",
       "  </tbody>\n",
       "</table>\n",
       "</div>"
      ],
      "text/plain": [
       "    Pseudo                              Title   \n",
       "0    R.A.O  A Small, But Very Powerful Device  \\\n",
       "1  Bee Lor   Excellent portable gaming laptop   \n",
       "2    R.A.O                The Golden Standard   \n",
       "\n",
       "                                              Review              Rating   \n",
       "0  \\nReview is based of having the computer as a ...  4.4 out of 5 stars  \\\n",
       "1  \\nI'm writing this review for anyone who's on ...  5.0 out of 5 stars   \n",
       "2  \\nI was weighing my options between getting a ...  3.0 out of 5 stars   \n",
       "\n",
       "   Verified Purchase                                               Date  \n",
       "0  Verified Purchase  Reviewed in the United States on November 27, ...  \n",
       "1  Verified Purchase   Reviewed in the United States on January 6, 2022  \n",
       "2  Verified Purchase  Reviewed in the United States on November 27, ...  "
      ]
     },
     "execution_count": 7,
     "metadata": {},
     "output_type": "execute_result"
    }
   ],
   "source": [
    "df_data['Title'] = df_data['Title'].apply(lambda x:x.strip('\\n'))\n",
    "df_data.head(3)"
   ]
  },
  {
   "cell_type": "code",
   "execution_count": 8,
   "metadata": {},
   "outputs": [
    {
     "data": {
      "text/html": [
       "<div>\n",
       "<style scoped>\n",
       "    .dataframe tbody tr th:only-of-type {\n",
       "        vertical-align: middle;\n",
       "    }\n",
       "\n",
       "    .dataframe tbody tr th {\n",
       "        vertical-align: top;\n",
       "    }\n",
       "\n",
       "    .dataframe thead th {\n",
       "        text-align: right;\n",
       "    }\n",
       "</style>\n",
       "<table border=\"1\" class=\"dataframe\">\n",
       "  <thead>\n",
       "    <tr style=\"text-align: right;\">\n",
       "      <th></th>\n",
       "      <th>Pseudo</th>\n",
       "      <th>Title</th>\n",
       "      <th>Review</th>\n",
       "      <th>Rating</th>\n",
       "      <th>Verified Purchase</th>\n",
       "      <th>Date</th>\n",
       "    </tr>\n",
       "  </thead>\n",
       "  <tbody>\n",
       "    <tr>\n",
       "      <th>0</th>\n",
       "      <td>R.A.O</td>\n",
       "      <td>A Small, But Very Powerful Device</td>\n",
       "      <td>Review is based of having the computer as a da...</td>\n",
       "      <td>4.4 out of 5 stars</td>\n",
       "      <td>Verified Purchase</td>\n",
       "      <td>Reviewed in the United States on November 27, ...</td>\n",
       "    </tr>\n",
       "    <tr>\n",
       "      <th>1</th>\n",
       "      <td>Bee Lor</td>\n",
       "      <td>Excellent portable gaming laptop</td>\n",
       "      <td>I'm writing this review for anyone who's on th...</td>\n",
       "      <td>5.0 out of 5 stars</td>\n",
       "      <td>Verified Purchase</td>\n",
       "      <td>Reviewed in the United States on January 6, 2022</td>\n",
       "    </tr>\n",
       "    <tr>\n",
       "      <th>2</th>\n",
       "      <td>R.A.O</td>\n",
       "      <td>The Golden Standard</td>\n",
       "      <td>I was weighing my options between getting a fu...</td>\n",
       "      <td>3.0 out of 5 stars</td>\n",
       "      <td>Verified Purchase</td>\n",
       "      <td>Reviewed in the United States on November 27, ...</td>\n",
       "    </tr>\n",
       "  </tbody>\n",
       "</table>\n",
       "</div>"
      ],
      "text/plain": [
       "    Pseudo                              Title   \n",
       "0    R.A.O  A Small, But Very Powerful Device  \\\n",
       "1  Bee Lor   Excellent portable gaming laptop   \n",
       "2    R.A.O                The Golden Standard   \n",
       "\n",
       "                                              Review              Rating   \n",
       "0  Review is based of having the computer as a da...  4.4 out of 5 stars  \\\n",
       "1  I'm writing this review for anyone who's on th...  5.0 out of 5 stars   \n",
       "2  I was weighing my options between getting a fu...  3.0 out of 5 stars   \n",
       "\n",
       "   Verified Purchase                                               Date  \n",
       "0  Verified Purchase  Reviewed in the United States on November 27, ...  \n",
       "1  Verified Purchase   Reviewed in the United States on January 6, 2022  \n",
       "2  Verified Purchase  Reviewed in the United States on November 27, ...  "
      ]
     },
     "execution_count": 8,
     "metadata": {},
     "output_type": "execute_result"
    }
   ],
   "source": [
    "df_data['Review'] = df_data['Review'].apply(lambda x: x.strip('\\n') if isinstance(x, str) else x)\n",
    "df_data.head(3)\n"
   ]
  },
  {
   "cell_type": "code",
   "execution_count": 9,
   "metadata": {},
   "outputs": [],
   "source": [
    "vader = SentimentIntensityAnalyzer()"
   ]
  },
  {
   "cell_type": "code",
   "execution_count": 10,
   "metadata": {},
   "outputs": [],
   "source": [
    "df_data = df_data.dropna()\n",
    "df_data[\"Review\"] = df_data[\"Review\"].astype(str)"
   ]
  },
  {
   "cell_type": "code",
   "execution_count": 11,
   "metadata": {},
   "outputs": [],
   "source": [
    "df_data[\"Score\"] = df_data[\"Review\"].apply(\n",
    "    lambda review: vader.polarity_scores(review)\n",
    ")\n",
    "df_data[\"Compound\"] = df_data[\"Score\"].apply(\n",
    "    lambda score_dict: score_dict[\"compound\"]\n",
    ")\n",
    "df_data[\"Sentiment\"] = df_data[\"Compound\"].apply(\n",
    "    lambda sent: \"positive\" if sent > 0 else (\"neutral\" if sent == 0 else \"negative\")\n",
    ")"
   ]
  },
  {
   "cell_type": "code",
   "execution_count": 12,
   "metadata": {},
   "outputs": [
    {
     "data": {
      "text/plain": [
       "Sentiment\n",
       "positive    183\n",
       "negative     37\n",
       "neutral       9\n",
       "Name: count, dtype: int64"
      ]
     },
     "execution_count": 12,
     "metadata": {},
     "output_type": "execute_result"
    }
   ],
   "source": [
    "df_data[\"Sentiment\"].value_counts()"
   ]
  },
  {
   "cell_type": "code",
   "execution_count": 13,
   "metadata": {},
   "outputs": [
    {
     "data": {
      "text/html": [
       "<div>\n",
       "<style scoped>\n",
       "    .dataframe tbody tr th:only-of-type {\n",
       "        vertical-align: middle;\n",
       "    }\n",
       "\n",
       "    .dataframe tbody tr th {\n",
       "        vertical-align: top;\n",
       "    }\n",
       "\n",
       "    .dataframe thead th {\n",
       "        text-align: right;\n",
       "    }\n",
       "</style>\n",
       "<table border=\"1\" class=\"dataframe\">\n",
       "  <thead>\n",
       "    <tr style=\"text-align: right;\">\n",
       "      <th></th>\n",
       "      <th>Pseudo</th>\n",
       "      <th>Title</th>\n",
       "      <th>Review</th>\n",
       "      <th>Rating</th>\n",
       "      <th>Verified Purchase</th>\n",
       "      <th>Date</th>\n",
       "      <th>Score</th>\n",
       "      <th>Compound</th>\n",
       "      <th>Sentiment</th>\n",
       "    </tr>\n",
       "  </thead>\n",
       "  <tbody>\n",
       "    <tr>\n",
       "      <th>0</th>\n",
       "      <td>R.A.O</td>\n",
       "      <td>A Small, But Very Powerful Device</td>\n",
       "      <td>Review is based of having the computer as a da...</td>\n",
       "      <td>4.4 out of 5 stars</td>\n",
       "      <td>Verified Purchase</td>\n",
       "      <td>Reviewed in the United States on November 27, ...</td>\n",
       "      <td>{'neg': 0.015, 'neu': 0.82, 'pos': 0.165, 'com...</td>\n",
       "      <td>0.9984</td>\n",
       "      <td>positive</td>\n",
       "    </tr>\n",
       "    <tr>\n",
       "      <th>1</th>\n",
       "      <td>Bee Lor</td>\n",
       "      <td>Excellent portable gaming laptop</td>\n",
       "      <td>I'm writing this review for anyone who's on th...</td>\n",
       "      <td>5.0 out of 5 stars</td>\n",
       "      <td>Verified Purchase</td>\n",
       "      <td>Reviewed in the United States on January 6, 2022</td>\n",
       "      <td>{'neg': 0.016, 'neu': 0.88, 'pos': 0.104, 'com...</td>\n",
       "      <td>0.9921</td>\n",
       "      <td>positive</td>\n",
       "    </tr>\n",
       "    <tr>\n",
       "      <th>2</th>\n",
       "      <td>R.A.O</td>\n",
       "      <td>The Golden Standard</td>\n",
       "      <td>I was weighing my options between getting a fu...</td>\n",
       "      <td>3.0 out of 5 stars</td>\n",
       "      <td>Verified Purchase</td>\n",
       "      <td>Reviewed in the United States on November 27, ...</td>\n",
       "      <td>{'neg': 0.026, 'neu': 0.864, 'pos': 0.109, 'co...</td>\n",
       "      <td>0.9745</td>\n",
       "      <td>positive</td>\n",
       "    </tr>\n",
       "  </tbody>\n",
       "</table>\n",
       "</div>"
      ],
      "text/plain": [
       "    Pseudo                              Title   \n",
       "0    R.A.O  A Small, But Very Powerful Device  \\\n",
       "1  Bee Lor   Excellent portable gaming laptop   \n",
       "2    R.A.O                The Golden Standard   \n",
       "\n",
       "                                              Review              Rating   \n",
       "0  Review is based of having the computer as a da...  4.4 out of 5 stars  \\\n",
       "1  I'm writing this review for anyone who's on th...  5.0 out of 5 stars   \n",
       "2  I was weighing my options between getting a fu...  3.0 out of 5 stars   \n",
       "\n",
       "   Verified Purchase                                               Date   \n",
       "0  Verified Purchase  Reviewed in the United States on November 27, ...  \\\n",
       "1  Verified Purchase   Reviewed in the United States on January 6, 2022   \n",
       "2  Verified Purchase  Reviewed in the United States on November 27, ...   \n",
       "\n",
       "                                               Score  Compound Sentiment  \n",
       "0  {'neg': 0.015, 'neu': 0.82, 'pos': 0.165, 'com...    0.9984  positive  \n",
       "1  {'neg': 0.016, 'neu': 0.88, 'pos': 0.104, 'com...    0.9921  positive  \n",
       "2  {'neg': 0.026, 'neu': 0.864, 'pos': 0.109, 'co...    0.9745  positive  "
      ]
     },
     "execution_count": 13,
     "metadata": {},
     "output_type": "execute_result"
    }
   ],
   "source": [
    "df_data.head(3)\n"
   ]
  },
  {
   "cell_type": "code",
   "execution_count": 14,
   "metadata": {},
   "outputs": [],
   "source": [
    "df_data[\"Title\"] = df_data[\"Title\"].str.lower()\n",
    "df_data[\"Review\"] = df_data[\"Review\"].str.lower()"
   ]
  },
  {
   "cell_type": "code",
   "execution_count": 15,
   "metadata": {},
   "outputs": [],
   "source": [
    "import string\n",
    "def remove_punctuation(text):\n",
    "    return text.translate(str.maketrans('', '', string.punctuation))\n",
    "\n",
    "# apply the function to each row in the \"Review\" column\n",
    "df_data[\"Review\"] = df_data[\"Review\"].apply(lambda text: remove_punctuation(text.lower()))\n",
    "df_data[\"Title\"] = df_data[\"Title\"].apply(lambda text: remove_punctuation(text.lower()))"
   ]
  },
  {
   "cell_type": "code",
   "execution_count": 16,
   "metadata": {},
   "outputs": [
    {
     "name": "stderr",
     "output_type": "stream",
     "text": [
      "[nltk_data] Downloading package stopwords to\n",
      "[nltk_data]     /Users/namnguyen/nltk_data...\n",
      "[nltk_data]   Package stopwords is already up-to-date!\n"
     ]
    }
   ],
   "source": [
    "nltk.download(\"stopwords\")\n",
    "\n",
    "stop_words = set(stopwords.words(\"english\"))\n",
    "\n",
    "df_data[\"Review\"] = df_data[\"Review\"].apply(\n",
    "    lambda review: \" \".join([word for word in review.lower().split() if word not in stop_words])\n",
    ")\n",
    "\n",
    "df_data[\"Title\"] = df_data[\"Title\"].apply(\n",
    "    lambda review: \" \".join([word for word in review.lower().split() if word not in stop_words])\n",
    ")\n",
    "\n"
   ]
  },
  {
   "cell_type": "code",
   "execution_count": 18,
   "metadata": {},
   "outputs": [
    {
     "data": {
      "text/html": [
       "<div>\n",
       "<style scoped>\n",
       "    .dataframe tbody tr th:only-of-type {\n",
       "        vertical-align: middle;\n",
       "    }\n",
       "\n",
       "    .dataframe tbody tr th {\n",
       "        vertical-align: top;\n",
       "    }\n",
       "\n",
       "    .dataframe thead th {\n",
       "        text-align: right;\n",
       "    }\n",
       "</style>\n",
       "<table border=\"1\" class=\"dataframe\">\n",
       "  <thead>\n",
       "    <tr style=\"text-align: right;\">\n",
       "      <th></th>\n",
       "      <th>Pseudo</th>\n",
       "      <th>Title</th>\n",
       "      <th>Review</th>\n",
       "      <th>Rating</th>\n",
       "      <th>Verified Purchase</th>\n",
       "      <th>Date</th>\n",
       "      <th>Score</th>\n",
       "      <th>Compound</th>\n",
       "      <th>Sentiment</th>\n",
       "    </tr>\n",
       "  </thead>\n",
       "  <tbody>\n",
       "    <tr>\n",
       "      <th>0</th>\n",
       "      <td>R.A.O</td>\n",
       "      <td>small powerful device</td>\n",
       "      <td>review based computer daily driver week meant ...</td>\n",
       "      <td>4.4 out of 5 stars</td>\n",
       "      <td>Verified Purchase</td>\n",
       "      <td>Reviewed in the United States on November 27, ...</td>\n",
       "      <td>{'neg': 0.015, 'neu': 0.82, 'pos': 0.165, 'com...</td>\n",
       "      <td>0.9984</td>\n",
       "      <td>positive</td>\n",
       "    </tr>\n",
       "    <tr>\n",
       "      <th>1</th>\n",
       "      <td>Bee Lor</td>\n",
       "      <td>excellent portable gaming laptop</td>\n",
       "      <td>im writing review anyone whos fence purchasing...</td>\n",
       "      <td>5.0 out of 5 stars</td>\n",
       "      <td>Verified Purchase</td>\n",
       "      <td>Reviewed in the United States on January 6, 2022</td>\n",
       "      <td>{'neg': 0.016, 'neu': 0.88, 'pos': 0.104, 'com...</td>\n",
       "      <td>0.9921</td>\n",
       "      <td>positive</td>\n",
       "    </tr>\n",
       "    <tr>\n",
       "      <th>2</th>\n",
       "      <td>R.A.O</td>\n",
       "      <td>golden standard</td>\n",
       "      <td>weighing options getting full desktop pc getti...</td>\n",
       "      <td>3.0 out of 5 stars</td>\n",
       "      <td>Verified Purchase</td>\n",
       "      <td>Reviewed in the United States on November 27, ...</td>\n",
       "      <td>{'neg': 0.026, 'neu': 0.864, 'pos': 0.109, 'co...</td>\n",
       "      <td>0.9745</td>\n",
       "      <td>positive</td>\n",
       "    </tr>\n",
       "    <tr>\n",
       "      <th>3</th>\n",
       "      <td>Tanmay</td>\n",
       "      <td>powerful size</td>\n",
       "      <td>great laptop things small negative background ...</td>\n",
       "      <td>5.0 out of 5 stars</td>\n",
       "      <td>Verified Purchase</td>\n",
       "      <td>Reviewed in the United States on July 7, 2021</td>\n",
       "      <td>{'neg': 0.097, 'neu': 0.701, 'pos': 0.201, 'co...</td>\n",
       "      <td>0.9891</td>\n",
       "      <td>positive</td>\n",
       "    </tr>\n",
       "    <tr>\n",
       "      <th>4</th>\n",
       "      <td>Brandon Relaz</td>\n",
       "      <td>brand new razer blade 14 broken mouse pad</td>\n",
       "      <td>received gem turned realized track pad super j...</td>\n",
       "      <td>5.0 out of 5 stars</td>\n",
       "      <td>Verified Purchase</td>\n",
       "      <td>Reviewed in the United States on July 20, 2021</td>\n",
       "      <td>{'neg': 0.084, 'neu': 0.731, 'pos': 0.185, 'co...</td>\n",
       "      <td>0.9859</td>\n",
       "      <td>positive</td>\n",
       "    </tr>\n",
       "  </tbody>\n",
       "</table>\n",
       "</div>"
      ],
      "text/plain": [
       "          Pseudo                                      Title   \n",
       "0          R.A.O                      small powerful device  \\\n",
       "1        Bee Lor           excellent portable gaming laptop   \n",
       "2          R.A.O                            golden standard   \n",
       "3         Tanmay                              powerful size   \n",
       "4  Brandon Relaz  brand new razer blade 14 broken mouse pad   \n",
       "\n",
       "                                              Review              Rating   \n",
       "0  review based computer daily driver week meant ...  4.4 out of 5 stars  \\\n",
       "1  im writing review anyone whos fence purchasing...  5.0 out of 5 stars   \n",
       "2  weighing options getting full desktop pc getti...  3.0 out of 5 stars   \n",
       "3  great laptop things small negative background ...  5.0 out of 5 stars   \n",
       "4  received gem turned realized track pad super j...  5.0 out of 5 stars   \n",
       "\n",
       "   Verified Purchase                                               Date   \n",
       "0  Verified Purchase  Reviewed in the United States on November 27, ...  \\\n",
       "1  Verified Purchase   Reviewed in the United States on January 6, 2022   \n",
       "2  Verified Purchase  Reviewed in the United States on November 27, ...   \n",
       "3  Verified Purchase      Reviewed in the United States on July 7, 2021   \n",
       "4  Verified Purchase     Reviewed in the United States on July 20, 2021   \n",
       "\n",
       "                                               Score  Compound Sentiment  \n",
       "0  {'neg': 0.015, 'neu': 0.82, 'pos': 0.165, 'com...    0.9984  positive  \n",
       "1  {'neg': 0.016, 'neu': 0.88, 'pos': 0.104, 'com...    0.9921  positive  \n",
       "2  {'neg': 0.026, 'neu': 0.864, 'pos': 0.109, 'co...    0.9745  positive  \n",
       "3  {'neg': 0.097, 'neu': 0.701, 'pos': 0.201, 'co...    0.9891  positive  \n",
       "4  {'neg': 0.084, 'neu': 0.731, 'pos': 0.185, 'co...    0.9859  positive  "
      ]
     },
     "execution_count": 18,
     "metadata": {},
     "output_type": "execute_result"
    }
   ],
   "source": [
    "df_data.head(5)"
   ]
  },
  {
   "cell_type": "code",
   "execution_count": 19,
   "metadata": {},
   "outputs": [
    {
     "data": {
      "text/plain": [
       "Index(['Pseudo', 'Title', 'Review', 'Rating', 'Verified Purchase', 'Date',\n",
       "       'Score', 'Compound', 'Sentiment'],\n",
       "      dtype='object')"
      ]
     },
     "execution_count": 19,
     "metadata": {},
     "output_type": "execute_result"
    }
   ],
   "source": [
    "df_data.columns"
   ]
  },
  {
   "cell_type": "code",
   "execution_count": 21,
   "metadata": {},
   "outputs": [],
   "source": [
    "df_data[\"Verified Purchase\"].replace(\n",
    "    to_replace=\"Verified Purchase\",\n",
    "    value=\"Yes\",\n",
    "    inplace=True\n",
    ")"
   ]
  },
  {
   "cell_type": "code",
   "execution_count": 22,
   "metadata": {},
   "outputs": [
    {
     "data": {
      "text/html": [
       "<div>\n",
       "<style scoped>\n",
       "    .dataframe tbody tr th:only-of-type {\n",
       "        vertical-align: middle;\n",
       "    }\n",
       "\n",
       "    .dataframe tbody tr th {\n",
       "        vertical-align: top;\n",
       "    }\n",
       "\n",
       "    .dataframe thead th {\n",
       "        text-align: right;\n",
       "    }\n",
       "</style>\n",
       "<table border=\"1\" class=\"dataframe\">\n",
       "  <thead>\n",
       "    <tr style=\"text-align: right;\">\n",
       "      <th></th>\n",
       "      <th>Pseudo</th>\n",
       "      <th>Title</th>\n",
       "      <th>Review</th>\n",
       "      <th>Rating</th>\n",
       "      <th>Verified Purchase</th>\n",
       "      <th>Date</th>\n",
       "      <th>Score</th>\n",
       "      <th>Compound</th>\n",
       "      <th>Sentiment</th>\n",
       "    </tr>\n",
       "  </thead>\n",
       "  <tbody>\n",
       "    <tr>\n",
       "      <th>0</th>\n",
       "      <td>R.A.O</td>\n",
       "      <td>small powerful device</td>\n",
       "      <td>review based computer daily driver week meant ...</td>\n",
       "      <td>4.4 out of 5 stars</td>\n",
       "      <td>Yes</td>\n",
       "      <td>Reviewed in the United States on November 27, ...</td>\n",
       "      <td>{'neg': 0.015, 'neu': 0.82, 'pos': 0.165, 'com...</td>\n",
       "      <td>0.9984</td>\n",
       "      <td>positive</td>\n",
       "    </tr>\n",
       "    <tr>\n",
       "      <th>1</th>\n",
       "      <td>Bee Lor</td>\n",
       "      <td>excellent portable gaming laptop</td>\n",
       "      <td>im writing review anyone whos fence purchasing...</td>\n",
       "      <td>5.0 out of 5 stars</td>\n",
       "      <td>Yes</td>\n",
       "      <td>Reviewed in the United States on January 6, 2022</td>\n",
       "      <td>{'neg': 0.016, 'neu': 0.88, 'pos': 0.104, 'com...</td>\n",
       "      <td>0.9921</td>\n",
       "      <td>positive</td>\n",
       "    </tr>\n",
       "    <tr>\n",
       "      <th>2</th>\n",
       "      <td>R.A.O</td>\n",
       "      <td>golden standard</td>\n",
       "      <td>weighing options getting full desktop pc getti...</td>\n",
       "      <td>3.0 out of 5 stars</td>\n",
       "      <td>Yes</td>\n",
       "      <td>Reviewed in the United States on November 27, ...</td>\n",
       "      <td>{'neg': 0.026, 'neu': 0.864, 'pos': 0.109, 'co...</td>\n",
       "      <td>0.9745</td>\n",
       "      <td>positive</td>\n",
       "    </tr>\n",
       "  </tbody>\n",
       "</table>\n",
       "</div>"
      ],
      "text/plain": [
       "    Pseudo                             Title   \n",
       "0    R.A.O             small powerful device  \\\n",
       "1  Bee Lor  excellent portable gaming laptop   \n",
       "2    R.A.O                   golden standard   \n",
       "\n",
       "                                              Review              Rating   \n",
       "0  review based computer daily driver week meant ...  4.4 out of 5 stars  \\\n",
       "1  im writing review anyone whos fence purchasing...  5.0 out of 5 stars   \n",
       "2  weighing options getting full desktop pc getti...  3.0 out of 5 stars   \n",
       "\n",
       "  Verified Purchase                                               Date   \n",
       "0               Yes  Reviewed in the United States on November 27, ...  \\\n",
       "1               Yes   Reviewed in the United States on January 6, 2022   \n",
       "2               Yes  Reviewed in the United States on November 27, ...   \n",
       "\n",
       "                                               Score  Compound Sentiment  \n",
       "0  {'neg': 0.015, 'neu': 0.82, 'pos': 0.165, 'com...    0.9984  positive  \n",
       "1  {'neg': 0.016, 'neu': 0.88, 'pos': 0.104, 'com...    0.9921  positive  \n",
       "2  {'neg': 0.026, 'neu': 0.864, 'pos': 0.109, 'co...    0.9745  positive  "
      ]
     },
     "execution_count": 22,
     "metadata": {},
     "output_type": "execute_result"
    }
   ],
   "source": [
    "df_data.head(3)"
   ]
  },
  {
   "cell_type": "code",
   "execution_count": 23,
   "metadata": {},
   "outputs": [],
   "source": [
    "df_data.to_csv(path_or_buf=\"amz_customer_reviews.csv\", sep=\",\", index=False)"
   ]
  },
  {
   "cell_type": "code",
   "execution_count": null,
   "metadata": {},
   "outputs": [],
   "source": []
  }
 ],
 "metadata": {
  "kernelspec": {
   "display_name": "venv",
   "language": "python",
   "name": "python3"
  },
  "language_info": {
   "codemirror_mode": {
    "name": "ipython",
    "version": 3
   },
   "file_extension": ".py",
   "mimetype": "text/x-python",
   "name": "python",
   "nbconvert_exporter": "python",
   "pygments_lexer": "ipython3",
   "version": "3.8.6"
  },
  "orig_nbformat": 4,
  "vscode": {
   "interpreter": {
    "hash": "3f595e7f069eda253bc5ab2998582087611877b953e8cd480d7c57e3567b93a1"
   }
  }
 },
 "nbformat": 4,
 "nbformat_minor": 2
}
